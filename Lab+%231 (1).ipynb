{
 "cells": [
  {
   "cell_type": "markdown",
   "metadata": {},
   "source": [
    "## Statistical Analysis of Seattle Wage Data 2018 \n",
    "Julia Beitel - Big Data - August 27, 2018\n",
    "\n"
   ]
  },
  {
   "cell_type": "markdown",
   "metadata": {},
   "source": [
    "### Abstract \n",
    "In this first lab, I will be analyizing the City of Seattle 2018 hourly wage data. Within my analysis, I will be answering the following questions that the data posed: What is the the highest hourly salary? What is the smallest? What is the overall average salary? How many employees does the city of seattle employ?"
   ]
  },
  {
   "cell_type": "markdown",
   "metadata": {},
   "source": [
    "### Dataset Preparation\n",
    "The given data represents the following columns: employee first and last name, hourly salary, department, and job title. This data was uploaded on July 30th of 2018 from the following source: https://data.seattle.gov/City-Business/City-of-Seattle-Wage-Data/2khk-5ukd\n",
    "\n",
    "To prepare our data for analysis, we..."
   ]
  },
  {
   "cell_type": "code",
   "execution_count": 7,
   "metadata": {
    "collapsed": true
   },
   "outputs": [],
   "source": [
    "#first i opened the file\n",
    "data_file = open(\"City_of_Seattle_Wage_Data_Clean.csv\", \"r\");\n",
    "\n",
    "#then i created an empty list to store the wage data\n",
    "wage_data = [];\n",
    "\n",
    "#then i put all columns from the wage data file into our list\n",
    "for ii in data_file:\n",
    "    wage_data.append(ii);\n",
    "    \n",
    "#then i closed the file\n",
    "data_file.close();\n"
   ]
  },
  {
   "cell_type": "markdown",
   "metadata": {},
   "source": [
    "Next, I cleaned up all the unecessary commas in our data and split the data into the following five lists: first name, last name, hourly wage, job department, and job title..."
   ]
  },
  {
   "cell_type": "code",
   "execution_count": 8,
   "metadata": {},
   "outputs": [
    {
     "name": "stdout",
     "output_type": "stream",
     "text": [
      "['Finance & Admin Services Dept', 'Finance & Admin Services Dept', 'Finance & Admin Services Dept', 'Finance & Admin Services Dept', 'Finance & Admin Services Dept', 'Finance & Admin Services Dept', 'Finance & Admin Services Dept', 'Finance & Admin Services Dept', 'Finance & Admin Services Dept', 'Finance & Admin Services Dept']\n",
      "['Kennedy', 'Johnson', 'Johnson', 'Mustello', 'Kin', 'Adams', 'Lindeberg', 'Wilson', 'Hubbard', 'Evans']\n",
      "['Leslie', 'Christina', 'Michael', 'Michael', 'Sokleng', 'Roger', 'Linda', 'Edna', 'Michael', 'Lisa']\n",
      "['StratAdvsr2 General Govt', 'StratAdvsr2 General Govt', 'StratAdvsr2 General Govt', 'Cust Svc Rep', 'Cust Svc Rep Sr', 'Cust Svc Rep Supv', 'Cust Svc Rep', 'Cust Svc Rep', 'Cust Svc Rep', 'Animal Contrl Ofcr I']\n",
      "[53.79, 51.574, 54.84, 25.54, 27.49, 33.86, 26.45, 27.49, 24.55, 26.06]\n"
     ]
    }
   ],
   "source": [
    "#here i removed the first element (this is the column header)\n",
    "del wage_data[0];\n",
    "\n",
    "#then i createed empty lists for each of the different corresponding columns\n",
    "department = [];\n",
    "last_name = [];\n",
    "first_name = [];\n",
    "job_title = [];\n",
    "hourly_rate = [];\n",
    "\n",
    "for jj in range(len(wage_data)):\n",
    "    #next i (using a for loop and the .split fxn) split each of the data units using commas to separate them\n",
    "    wage_data[jj] = wage_data[jj].split(\",\")\n",
    "    \n",
    "    #then i added the data to each specific list for it's corresponding column\n",
    "    department.append(str(wage_data[jj][0]))\n",
    "    last_name.append(str(wage_data[jj][1]))\n",
    "    first_name.append(str(wage_data[jj][2]))\n",
    "    job_title.append(str(wage_data[jj][3]))\n",
    "    hourly_rate.append(float(wage_data[jj][4]))\n",
    "    \n",
    "print(department[:10])\n",
    "print(last_name[:10])\n",
    "print(first_name[:10])\n",
    "print(job_title[:10])\n",
    "print(hourly_rate[:10])"
   ]
  },
  {
   "cell_type": "markdown",
   "metadata": {},
   "source": [
    "Then, I sorted the wage data set into a descending order to clean up the numbers..."
   ]
  },
  {
   "cell_type": "code",
   "execution_count": 9,
   "metadata": {},
   "outputs": [
    {
     "name": "stdout",
     "output_type": "stream",
     "text": [
      "[5.53, 5.53, 5.53, 5.53, 5.53, 5.53, 15.45, 15.45, 15.45, 15.45]\n"
     ]
    }
   ],
   "source": [
    "# i used the .sort method to rearrange the existing list into a sorted order\n",
    "hourly_rate.sort();  \n",
    "\n",
    "print(hourly_rate[:10])"
   ]
  },
  {
   "cell_type": "markdown",
   "metadata": {},
   "source": [
    "### Data Modeling"
   ]
  },
  {
   "cell_type": "markdown",
   "metadata": {},
   "source": [
    "Next, I found the average, min, and max salaries, in order to answer the main questions of this lab..."
   ]
  },
  {
   "cell_type": "code",
   "execution_count": 10,
   "metadata": {},
   "outputs": [
    {
     "name": "stdout",
     "output_type": "stream",
     "text": [
      "Min salary: 5.53\n",
      "Max salary: 137.788\n",
      "Mean salary: 39.585019730942065\n"
     ]
    }
   ],
   "source": [
    "#here i used the min() fxn to find the min overall salary\n",
    "min_overall_salary = min(hourly_rate)\n",
    "print(\"Min salary:\", min_overall_salary)\n",
    "\n",
    "#here i used the max() fxn to find the max overall salary\n",
    "max_overall_salary = max(hourly_rate)\n",
    "print(\"Max salary:\", max_overall_salary)\n",
    "\n",
    "#next i used the len() fxn to count the total amount of employees\n",
    "#then i used the sum() fxn to find the total amount of money used for salaries\n",
    "#then i divided the total by the number of city employees to find the average overall salary\n",
    "count = len(hourly_rate)\n",
    "total = sum(hourly_rate)\n",
    "mean=total/count\n",
    "print(\"Mean salary:\", mean)\n"
   ]
  },
  {
   "cell_type": "markdown",
   "metadata": {},
   "source": [
    "Next, I found the total number of Seattle city employees..."
   ]
  },
  {
   "cell_type": "code",
   "execution_count": 11,
   "metadata": {},
   "outputs": [
    {
     "name": "stdout",
     "output_type": "stream",
     "text": [
      "There are 12934 Seattle city employees.\n"
     ]
    }
   ],
   "source": [
    "print(\"There are\", len(first_name), \"Seattle city employees.\")"
   ]
  },
  {
   "cell_type": "markdown",
   "metadata": {},
   "source": [
    "### Data Analysis and Conclusion\n",
    "A conclusion I can draw from my data analysis is that there is a big difference between the largest and smallest salaries. There is about a 132 dollar difference between the min and max salary. The reasoning behind this could be due to many of the following factors: the level of the job, number of hours worked, and the type of job. This data raises many questions. Some of them being: Is there a minimum wage for high school interns? Is there a minimum wage for those who work part time compared to those who work full time?\n",
    "\n",
    "The data also posed questions towards the validity and legitamacy of the data collection. Some being: Are there any flaws in the data? Have any salaries changed since the data was updated last? Are the uploaded salaries pre-tax collection or post-tax collection? It would be interesting to dive deeper into this data set, since it is relevant to our environment as we are living in/near Seattle. "
   ]
  },
  {
   "cell_type": "markdown",
   "metadata": {},
   "source": [
    "### Acknowledgements\n",
    "I recieved help from Lillian Ellis, who guided me through the language of markdown and getting back into Python coding. I also used sample code for my data preparation and analysis from Ms.Sconyers's Python intro document on jupyter notebooks. Again, I recieved my  Seattle Wage Data from the following source: https://data.seattle.gov/City-Business/City-of-Seattle-Wage-Data/2khk-5ukd"
   ]
  }
 ],
 "metadata": {
  "kernelspec": {
   "display_name": "Python 3",
   "language": "python",
   "name": "python3"
  },
  "language_info": {
   "codemirror_mode": {
    "name": "ipython",
    "version": 3
   },
   "file_extension": ".py",
   "mimetype": "text/x-python",
   "name": "python",
   "nbconvert_exporter": "python",
   "pygments_lexer": "ipython3",
   "version": "3.6.3"
  }
 },
 "nbformat": 4,
 "nbformat_minor": 2
}
